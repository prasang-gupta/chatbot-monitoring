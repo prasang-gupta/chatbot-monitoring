{
 "cells": [
  {
   "cell_type": "code",
   "execution_count": 10,
   "metadata": {},
   "outputs": [],
   "source": [
    "import numpy as np\n",
    "import pandas as pd\n",
    "from tqdm import tqdm\n",
    "\n",
    "from sentence_transformers import SentenceTransformer\n",
    "from sklearn.decomposition import PCA\n",
    "\n",
    "import plotly.graph_objects as go\n",
    "\n",
    "tqdm.pandas()"
   ]
  },
  {
   "cell_type": "code",
   "execution_count": 3,
   "metadata": {},
   "outputs": [],
   "source": [
    "model = SentenceTransformer('all-MiniLM-L6-v2')"
   ]
  },
  {
   "cell_type": "code",
   "execution_count": 16,
   "metadata": {},
   "outputs": [
    {
     "name": "stderr",
     "output_type": "stream",
     "text": [
      "100%|██████████| 2793/2793 [00:38<00:00, 72.38it/s]\n",
      "100%|██████████| 357/357 [00:04<00:00, 71.91it/s]\n",
      "100%|██████████| 282/282 [00:03<00:00, 73.73it/s]\n",
      "/var/folders/h7/l8b3z2xs3cl9453ftj_b_5c80000gp/T/ipykernel_12491/907630333.py:13: VisibleDeprecationWarning: Creating an ndarray from ragged nested sequences (which is a list-or-tuple of lists-or-tuples-or ndarrays with different lengths or shapes) is deprecated. If you meant to do this, you must specify 'dtype=object' when creating the ndarray.\n",
      "  np.save(f, np.array(card))\n",
      "/var/folders/h7/l8b3z2xs3cl9453ftj_b_5c80000gp/T/ipykernel_12491/907630333.py:14: VisibleDeprecationWarning: Creating an ndarray from ragged nested sequences (which is a list-or-tuple of lists-or-tuples-or ndarrays with different lengths or shapes) is deprecated. If you meant to do this, you must specify 'dtype=object' when creating the ndarray.\n",
      "  np.save(f, np.array(newcard))\n",
      "/var/folders/h7/l8b3z2xs3cl9453ftj_b_5c80000gp/T/ipykernel_12491/907630333.py:15: VisibleDeprecationWarning: Creating an ndarray from ragged nested sequences (which is a list-or-tuple of lists-or-tuples-or ndarrays with different lengths or shapes) is deprecated. If you meant to do this, you must specify 'dtype=object' when creating the ndarray.\n",
      "  np.save(f, np.array(new))\n"
     ]
    }
   ],
   "source": [
    "card = []\n",
    "newcard = []\n",
    "new = []\n",
    "\n",
    "df = pd.read_csv('output/card.csv')\n",
    "df.progress_apply(lambda x: card.append([x['text'], x['intent'], model.encode(x['text'])]), axis=1)\n",
    "df = pd.read_csv('output/new card.csv')\n",
    "df.progress_apply(lambda x: newcard.append([x['text'], x['intent'], model.encode(x['text'])]), axis=1)\n",
    "df = pd.read_csv('output/new.csv')\n",
    "df.progress_apply(lambda x: new.append([x['text'], x['intent'], model.encode(x['text'])]), axis=1)\n",
    "\n",
    "with open('embeddings.npy', 'wb') as f:\n",
    "    np.save(f, np.array(card))\n",
    "    np.save(f, np.array(newcard))\n",
    "    np.save(f, np.array(new))"
   ]
  },
  {
   "cell_type": "code",
   "execution_count": 4,
   "metadata": {},
   "outputs": [],
   "source": [
    "with open('embeddings.npy', 'rb') as f:\n",
    "    card = np.load(f, allow_pickle=True)\n",
    "    newcard = np.load(f, allow_pickle=True)\n",
    "    new = np.load(f, allow_pickle=True)"
   ]
  },
  {
   "cell_type": "code",
   "execution_count": 36,
   "metadata": {},
   "outputs": [
    {
     "ename": "IndentationError",
     "evalue": "expected an indented block (3427980120.py, line 6)",
     "output_type": "error",
     "traceback": [
      "\u001b[0;36m  Input \u001b[0;32mIn [36]\u001b[0;36m\u001b[0m\n\u001b[0;31m    two_dim = PCA(random_state=0).fit_transform(card[:,2])\u001b[0m\n\u001b[0m    ^\u001b[0m\n\u001b[0;31mIndentationError\u001b[0m\u001b[0;31m:\u001b[0m expected an indented block\n"
     ]
    }
   ],
   "source": [
    "intent1 = 'activate_my_card'\n",
    "intent2 = 'atm_support'\n",
    "\n",
    "intent1pca = []\n",
    "for obj in card:\n",
    "    if obj[1] == intent1:\n",
    "        intent1pca.append(PCA(random_state=0).fit_transform(card[:,2]))\n",
    "two_dim = PCA(random_state=0).fit_transform(card[:,2])\n",
    "two_dim.shape"
   ]
  },
  {
   "cell_type": "code",
   "execution_count": 45,
   "metadata": {},
   "outputs": [
    {
     "ename": "ValueError",
     "evalue": "setting an array element with a sequence.",
     "output_type": "error",
     "traceback": [
      "\u001b[0;31m---------------------------------------------------------------------------\u001b[0m",
      "\u001b[0;31mTypeError\u001b[0m                                 Traceback (most recent call last)",
      "\u001b[0;31mTypeError\u001b[0m: only size-1 arrays can be converted to Python scalars",
      "\nThe above exception was the direct cause of the following exception:\n",
      "\u001b[0;31mValueError\u001b[0m                                Traceback (most recent call last)",
      "\u001b[1;32m/Users/pgupta282/chatbot-monitoring/embeddings.ipynb Cell 6\u001b[0m in \u001b[0;36m<cell line: 1>\u001b[0;34m()\u001b[0m\n\u001b[0;32m----> <a href='vscode-notebook-cell:/Users/pgupta282/chatbot-monitoring/embeddings.ipynb#X14sZmlsZQ%3D%3D?line=0'>1</a>\u001b[0m PCA(random_state\u001b[39m=\u001b[39;49m\u001b[39m0\u001b[39;49m)\u001b[39m.\u001b[39;49mfit_transform(card[card[:,\u001b[39m1\u001b[39;49m] \u001b[39m==\u001b[39;49m \u001b[39m'\u001b[39;49m\u001b[39mactivate_my_card\u001b[39;49m\u001b[39m'\u001b[39;49m][:,\u001b[39m2\u001b[39;49m])\n",
      "File \u001b[0;32m/usr/local/anaconda3/envs/rasa/lib/python3.9/site-packages/sklearn/decomposition/_pca.py:433\u001b[0m, in \u001b[0;36mPCA.fit_transform\u001b[0;34m(self, X, y)\u001b[0m\n\u001b[1;32m    411\u001b[0m \u001b[39mdef\u001b[39;00m \u001b[39mfit_transform\u001b[39m(\u001b[39mself\u001b[39m, X, y\u001b[39m=\u001b[39m\u001b[39mNone\u001b[39;00m):\n\u001b[1;32m    412\u001b[0m     \u001b[39m\"\"\"Fit the model with X and apply the dimensionality reduction on X.\u001b[39;00m\n\u001b[1;32m    413\u001b[0m \n\u001b[1;32m    414\u001b[0m \u001b[39m    Parameters\u001b[39;00m\n\u001b[0;32m   (...)\u001b[0m\n\u001b[1;32m    431\u001b[0m \u001b[39m    C-ordered array, use 'np.ascontiguousarray'.\u001b[39;00m\n\u001b[1;32m    432\u001b[0m \u001b[39m    \"\"\"\u001b[39;00m\n\u001b[0;32m--> 433\u001b[0m     U, S, Vt \u001b[39m=\u001b[39m \u001b[39mself\u001b[39;49m\u001b[39m.\u001b[39;49m_fit(X)\n\u001b[1;32m    434\u001b[0m     U \u001b[39m=\u001b[39m U[:, : \u001b[39mself\u001b[39m\u001b[39m.\u001b[39mn_components_]\n\u001b[1;32m    436\u001b[0m     \u001b[39mif\u001b[39;00m \u001b[39mself\u001b[39m\u001b[39m.\u001b[39mwhiten:\n\u001b[1;32m    437\u001b[0m         \u001b[39m# X_new = X * V / S * sqrt(n_samples) = U * sqrt(n_samples)\u001b[39;00m\n",
      "File \u001b[0;32m/usr/local/anaconda3/envs/rasa/lib/python3.9/site-packages/sklearn/decomposition/_pca.py:456\u001b[0m, in \u001b[0;36mPCA._fit\u001b[0;34m(self, X)\u001b[0m\n\u001b[1;32m    450\u001b[0m \u001b[39mif\u001b[39;00m issparse(X):\n\u001b[1;32m    451\u001b[0m     \u001b[39mraise\u001b[39;00m \u001b[39mTypeError\u001b[39;00m(\n\u001b[1;32m    452\u001b[0m         \u001b[39m\"\u001b[39m\u001b[39mPCA does not support sparse input. See \u001b[39m\u001b[39m\"\u001b[39m\n\u001b[1;32m    453\u001b[0m         \u001b[39m\"\u001b[39m\u001b[39mTruncatedSVD for a possible alternative.\u001b[39m\u001b[39m\"\u001b[39m\n\u001b[1;32m    454\u001b[0m     )\n\u001b[0;32m--> 456\u001b[0m X \u001b[39m=\u001b[39m \u001b[39mself\u001b[39;49m\u001b[39m.\u001b[39;49m_validate_data(\n\u001b[1;32m    457\u001b[0m     X, dtype\u001b[39m=\u001b[39;49m[np\u001b[39m.\u001b[39;49mfloat64, np\u001b[39m.\u001b[39;49mfloat32], ensure_2d\u001b[39m=\u001b[39;49m\u001b[39mTrue\u001b[39;49;00m, copy\u001b[39m=\u001b[39;49m\u001b[39mself\u001b[39;49m\u001b[39m.\u001b[39;49mcopy\n\u001b[1;32m    458\u001b[0m )\n\u001b[1;32m    460\u001b[0m \u001b[39m# Handle n_components==None\u001b[39;00m\n\u001b[1;32m    461\u001b[0m \u001b[39mif\u001b[39;00m \u001b[39mself\u001b[39m\u001b[39m.\u001b[39mn_components \u001b[39mis\u001b[39;00m \u001b[39mNone\u001b[39;00m:\n",
      "File \u001b[0;32m/usr/local/anaconda3/envs/rasa/lib/python3.9/site-packages/sklearn/base.py:577\u001b[0m, in \u001b[0;36mBaseEstimator._validate_data\u001b[0;34m(self, X, y, reset, validate_separately, **check_params)\u001b[0m\n\u001b[1;32m    575\u001b[0m     \u001b[39mraise\u001b[39;00m \u001b[39mValueError\u001b[39;00m(\u001b[39m\"\u001b[39m\u001b[39mValidation should be done on X, y or both.\u001b[39m\u001b[39m\"\u001b[39m)\n\u001b[1;32m    576\u001b[0m \u001b[39melif\u001b[39;00m \u001b[39mnot\u001b[39;00m no_val_X \u001b[39mand\u001b[39;00m no_val_y:\n\u001b[0;32m--> 577\u001b[0m     X \u001b[39m=\u001b[39m check_array(X, input_name\u001b[39m=\u001b[39;49m\u001b[39m\"\u001b[39;49m\u001b[39mX\u001b[39;49m\u001b[39m\"\u001b[39;49m, \u001b[39m*\u001b[39;49m\u001b[39m*\u001b[39;49mcheck_params)\n\u001b[1;32m    578\u001b[0m     out \u001b[39m=\u001b[39m X\n\u001b[1;32m    579\u001b[0m \u001b[39melif\u001b[39;00m no_val_X \u001b[39mand\u001b[39;00m \u001b[39mnot\u001b[39;00m no_val_y:\n",
      "File \u001b[0;32m/usr/local/anaconda3/envs/rasa/lib/python3.9/site-packages/sklearn/utils/validation.py:856\u001b[0m, in \u001b[0;36mcheck_array\u001b[0;34m(array, accept_sparse, accept_large_sparse, dtype, order, copy, force_all_finite, ensure_2d, allow_nd, ensure_min_samples, ensure_min_features, estimator, input_name)\u001b[0m\n\u001b[1;32m    854\u001b[0m         array \u001b[39m=\u001b[39m array\u001b[39m.\u001b[39mastype(dtype, casting\u001b[39m=\u001b[39m\u001b[39m\"\u001b[39m\u001b[39munsafe\u001b[39m\u001b[39m\"\u001b[39m, copy\u001b[39m=\u001b[39m\u001b[39mFalse\u001b[39;00m)\n\u001b[1;32m    855\u001b[0m     \u001b[39melse\u001b[39;00m:\n\u001b[0;32m--> 856\u001b[0m         array \u001b[39m=\u001b[39m np\u001b[39m.\u001b[39;49masarray(array, order\u001b[39m=\u001b[39;49morder, dtype\u001b[39m=\u001b[39;49mdtype)\n\u001b[1;32m    857\u001b[0m \u001b[39mexcept\u001b[39;00m ComplexWarning \u001b[39mas\u001b[39;00m complex_warning:\n\u001b[1;32m    858\u001b[0m     \u001b[39mraise\u001b[39;00m \u001b[39mValueError\u001b[39;00m(\n\u001b[1;32m    859\u001b[0m         \u001b[39m\"\u001b[39m\u001b[39mComplex data not supported\u001b[39m\u001b[39m\\n\u001b[39;00m\u001b[39m{}\u001b[39;00m\u001b[39m\\n\u001b[39;00m\u001b[39m\"\u001b[39m\u001b[39m.\u001b[39mformat(array)\n\u001b[1;32m    860\u001b[0m     ) \u001b[39mfrom\u001b[39;00m \u001b[39mcomplex_warning\u001b[39;00m\n",
      "\u001b[0;31mValueError\u001b[0m: setting an array element with a sequence."
     ]
    }
   ],
   "source": [
    "PCA(random_state=0).fit_transform(card[card[:,1] == 'activate_my_card'][:,2])"
   ]
  },
  {
   "cell_type": "code",
   "execution_count": 5,
   "metadata": {},
   "outputs": [
    {
     "data": {
      "text/plain": [
       "159"
      ]
     },
     "execution_count": 5,
     "metadata": {},
     "output_type": "execute_result"
    }
   ],
   "source": [
    "df1 = pd.read_csv('output/card.csv')\n",
    "df1 = df1[df1['intent'] == 'activate_my_card']\n",
    "emb1 = []\n",
    "for i in range(len(df1)):\n",
    "    emb1.append(model.encode(df1.iloc[i]['text']))\n",
    "len(emb1)"
   ]
  },
  {
   "cell_type": "code",
   "execution_count": 6,
   "metadata": {},
   "outputs": [
    {
     "data": {
      "text/plain": [
       "87"
      ]
     },
     "execution_count": 6,
     "metadata": {},
     "output_type": "execute_result"
    }
   ],
   "source": [
    "df2 = pd.read_csv('output/card.csv')\n",
    "df2 = df2[df2['intent'] == 'atm_support']\n",
    "emb2 = []\n",
    "for i in range(len(df2)):\n",
    "    emb2.append(model.encode(df2.iloc[i]['text']))\n",
    "len(emb2)"
   ]
  },
  {
   "cell_type": "code",
   "execution_count": 7,
   "metadata": {},
   "outputs": [],
   "source": [
    "pca = PCA(random_state=0, n_components=2)\n",
    "pca.fit(emb1 + emb2)\n",
    "two1 = pca.transform(emb1)\n",
    "two2 = pca.transform(emb2)"
   ]
  },
  {
   "cell_type": "code",
   "execution_count": 8,
   "metadata": {},
   "outputs": [
    {
     "data": {
      "text/plain": [
       "<matplotlib.collections.PathCollection at 0x7f85c8e9d8e0>"
      ]
     },
     "execution_count": 8,
     "metadata": {},
     "output_type": "execute_result"
    },
    {
     "data": {
      "image/png": "[encoded data removed]",
      "text/plain": [
       "<Figure size 640x480 with 1 Axes>"
      ]
     },
     "metadata": {},
     "output_type": "display_data"
    }
   ],
   "source": [
    "plt.Figure((10,10))\n",
    "plt.scatter(two1[:,0], two1[:,1], color='red')\n",
    "plt.scatter(two2[:,0], two2[:,1], color='blue')"
   ]
  },
  {
   "cell_type": "code",
   "execution_count": 12,
   "metadata": {},
   "outputs": [],
   "source": [
    "x = list(two1[:,0]) + list(two2[:,0])\n",
    "y = list(two1[:,1]) + list(two2[:,1])\n",
    "text = [df1.iloc[_]['text'] for _ in range(len(two1))] + [df2.iloc[_]['text'] for _ in range(len(two2))]\n",
    "textcolor = [0 for _ in range(len(two1))] + [1 for _ in range(len(two2))]"
   ]
  },
  {
   "cell_type": "code",
   "execution_count": 13,
   "metadata": {},
   "outputs": [
    {
     "data": {
      "application/vnd.plotly.v1+json": {
       "config": {
        "plotlyServerURL": "https://plot.ly"
       },
       "data": [
        {
         "marker": {
          "color": [
           0,
           0,
           0,
           0,
           0,
           0,
           0,
           0,
           0,
           0,
           0,
           0,
           0,
           0,
           0,
           0,
           0,
           0,
           0,
           0,
           0,
           0,
           0,
           0,
           0,
           0,
           0,
           0,
           0,
           0,
           0,
           0,
           0,
           0,
           0,
           0,
           0,
           0,
           0,
           0,
           0,
           0,
           0,
           0,
           0,
           0,
           0,
           0,
           0,
           0,
           0,
           0,
           0,
           0,
           0,
           0,
           0,
           0,
           0,
           0,
           0,
           0,
           0,
           0,
           0,
           0,
           0,
           0,
           0,
           0,
           0,
           0,
           0,
           0,
           0,
           0,
           0,
           0,
           0,
           0,
           0,
           0,
           0,
           0,
           0,
           0,
           0,
           0,
           0,
           0,
           0,
           0,
           0,
           0,
           0,
           0,
           0,
           0,
           0,
           0,
           0,
           0,
           0,
           0,
           0,
           0,
           0,
           0,
           0,
           0,
           0,
           0,
           0,
           0,
           0,
           0,
           0,
           0,
           0,
           0,
           0,
           0,
           0,
           0,
           0,
           0,
           0,
           0,
           0,
           0,
           0,
           0,
           0,
           0,
           0,
           0,
           0,
           0,
           0,
           0,
           0,
           0,
           0,
           0,
           0,
           0,
           0,
           0,
           0,
           0,
           0,
           0,
           0,
           0,
           0,
           0,
           0,
           0,
           0,
           1,
           1,
           1,
           1,
           1,
           1,
           1,
           1,
           1,
           1,
           1,
           1,
           1,
           1,
           1,
           1,
           1,
           1,
           1,
           1,
           1,
           1,
           1,
           1,
           1,
           1,
           1,
           1,
           1,
           1,
           1,
           1,
           1,
           1,
           1,
           1,
           1,
           1,
           1,
           1,
           1,
           1,
           1,
           1,
           1,
           1,
           1,
           1,
           1,
           1,
           1,
           1,
           1,
           1,
           1,
           1,
           1,
           1,
           1,
           1,
           1,
           1,
           1,
           1,
           1,
           1,
           1,
           1,
           1,
           1,
           1,
           1,
           1,
           1,
           1,
           1,
           1,
           1,
           1,
           1,
           1,
           1,
           1,
           1,
           1,
           1,
           1
          ],
          "colorscale": [
           [
            0,
            "rgb(150,0,90)"
           ],
           [
            0.125,
            "rgb(0,0,200)"
           ],
           [
            0.25,
            "rgb(0,25,255)"
           ],
           [
            0.375,
            "rgb(0,152,255)"
           ],
           [
            0.5,
            "rgb(44,255,150)"
           ],
           [
            0.625,
            "rgb(151,255,0)"
           ],
           [
            0.75,
            "rgb(255,234,0)"
           ],
           [
            0.875,
            "rgb(255,111,0)"
           ],
           [
            1,
            "rgb(255,0,0)"
           ]
          ],
          "showscale": true,
          "size": 8
         },
         "mode": "markers",
         "text": [
          "Please help me with my card.  It won't activate.",
          "I tired but an unable to activate my card.",
          "I want to start using my card.",
          "How do I verify my new card?",
          "I tried activating my plug-in and it didn't piece of work",
          "How do i activate my card",
          "Can someone assist me with activating my card?",
          "My card needs to be activated.",
          "I was unable to activate my card.",
          "Is my card ready for use or does it need activated and if so how?",
          "Help me activate my new card.",
          "Do I need a photo ID to activate a my new card?",
          "I just got my new card, how do I activate it?",
          "Can I have my card activated?",
          "i cant seem to activate card",
          "It won't let me activate my card.",
          "I tried activation my card and it didn't employment",
          "I want to use my card. How do I activate it?",
          "Activate my card",
          "Can I get some help activating my new card?",
          "Is my card activated?",
          "I would like to activate my card.",
          "Can I call to get my card activated?",
          "How can I activate my new card? I didn't recieve any information with it about how to do so.",
          "How do I activate my new card I just got?",
          "will you be able to activate my card",
          "Can I get some help to get me card activated?",
          "I want to activate my new card.",
          "What would II do if I wanted to activate my new card",
          "What needs to be done to activate and use a card?",
          "Can I activate my card?",
          "I need assistance activating my card?",
          "I need assistance with activating my new card.",
          "How do I get my card active?",
          "What do I have to do to activate my card?",
          "What is needed to activate my card?",
          "How can my new card be activated?",
          "Can you activate my card pls",
          "How do I turn on my new card?",
          "Please assist me in activating the card.",
          "Would you be so kind as to activate my card? Thanks",
          "I tried activating my card and it doesn't work how do I solve this problem?",
          "Can I activate my card with the app?",
          "I want to start using my card, how do I activate it?",
          "What is the process to activate a card",
          "Hi, would you please activate my card?",
          "What do I need for activation of my card?",
          "How do I activate my card, so that I can start using it?",
          "I need my card activated.",
          "I would like to be assisted with the activation of my card.",
          "I just received my card and I'd like to activate it.",
          "can you assist me in activating my card?",
          "How do I activate my card to start using it?",
          "Instructions for activating card",
          "What do I need to do for the card activation?",
          "I am unable to activate my card, it won't let me.",
          "When are you going to activate my card?",
          "I need to activate my card.",
          "How can I activate my new card?",
          "What do I do to activate?",
          "What steps do I have to take to activate my card?",
          "My new card just arrived, how can I activate it?",
          "I am having trouble activating my card.",
          "My card is not able to be activated how do I get it to work?",
          "I'm not able to activate my card how do I fix this problem?",
          "I cannot activate my card.",
          "How can I activate the new card i got?",
          "how long should i wait ti activate my card",
          "How do I activate a card?",
          "What is the procedure for activating this card?",
          "My card needs to be activated asap",
          "What is the most efficient way to activate my new card?",
          "I couldn't complete card activation.",
          "Who do I call to activate my new card?",
          "You can activate your card in a few seconds by going to account, hitting activate, and just following the directions.",
          "Tell me what I need to do to activate my card.",
          "What is the process for activating a new card.",
          "My card activation is failing.",
          "I need to activate my card, how is that done?",
          "I would like to activate my card what do I need to do?",
          "I have my card now how do I activate it?",
          "How long does it take to activate my card?",
          "How do I activate my card so I can start using it?",
          "Explain the activation method for this card",
          "Can someone assist me with activating my new card?",
          "What is the process for activating my new card?",
          "I would like to have assistance with activating my card.",
          "Tell me how to renew my new card?",
          "My new card came in.  How do I activate?",
          "How do I active this card?",
          "what are the steps to activate my card?",
          "I have a new card and need to activate it",
          "I would like to get help from someone in your customer service department with assisting me with activating my card.",
          "What are the steps that I need to take to activate a new card?",
          "I tried activating my card and it didn't work",
          "I need my card to be activated right now.",
          "What information do I need to gather in order to activate my card?",
          "what do i need to have with me to activate card",
          "What am I going to need in order to activate my card?",
          "Show me how to activate my card",
          "I need more assistance with how to activate my card.",
          "Can you tell me how I go about activating a new card?",
          "My new card needs activating.",
          "Where do I activate my card?",
          "Do you know the process how to activate my card?",
          "How can i make my card active?",
          "Please help me with the activation of the new card.",
          "Can you help me activate my card",
          "My card activation attempt failed.",
          "I just got a new card, and I want to know how to activate.",
          "Would it be possible to activate my card?",
          "Card activation steps",
          "What is the process for activating my card and using it?",
          "I have a new card and I need to activate it.",
          "Do I have to go somewhere to activate my card?",
          "What do I do to activate my new card?",
          "I just got a new card how do I get it to start working?",
          "I need assistance to activate the card on my account.",
          "I can't activate my card?",
          "My new card is here, what's the process for activating it?",
          "Where can I activate my card?",
          "How can I switch on my new card?",
          "With my new card, how may I activate it?",
          "Help me activate my card.",
          "How long does it take to activate the card, as it does not look like its working?",
          "You can do that in just a few seconds. Go to account, hit activate, and follow the directions from there.",
          "Card activation is not working. What do i do?",
          "What identification is required to activate my card?",
          "I need to do a card activation.",
          "I want to activate my card, how do I do it?",
          "I want to activate the card.",
          "I am planning activating my card was it possible?",
          "The activation process for my card isn't working.",
          "Could you please tell me how to activate my new card?",
          "I need to actuate my card.",
          "I need info on activating my card?",
          "I would like my card activated.",
          "How can I make my card ready to use?",
          "Can I use my new card?",
          "What steps do I have to go through in order to activate my new card?",
          "I have a new card. How do I activate it?",
          "The activation process did not work, please help?",
          "I just got my card and cannot get it to work.",
          "Just received my replacement card, what steps do i need to take to activate it?",
          "I want to use my card, how would I activate it?",
          "How do I activate my new card",
          "What are the steps to activate the card, as it does not seem to work?",
          "I just got my new card.  How can I activate it?",
          "Please assist me with activation.",
          "Where do I go to activate my card?",
          "If you to to account, hit activate, and follow the instructions, you can activate it in just a few seconds.",
          "Is my new card activated?",
          "Help my activate my card.",
          "i cannot seem to activate card",
          "What do I need to do in order to use my card I just got?",
          "My new card has arrived, what's the activation procedure?",
          "How can my new card be renewed?",
          "What is the proper way to activate a card?",
          "How do I activate my card that just arrived?",
          "I can use this card at which ATMs?",
          "Can I use the card at any cash machine?",
          "What locations can I get money from?",
          "What ATMs take this card?",
          "Which ATM's can I use to make a withdrawal?",
          "Do all ATMs accept this card?",
          "Will this card work at any ATM?",
          "Which ATMs am I allowed to get money from?",
          "Where is the closest ATM to me?",
          "Which ATMs accept this bill of fare ?",
          "Do I have to use a bank approved ATM to withdraw money?",
          "How do I withdraw money?",
          "Can I use this card at any ATM?",
          "What locations allow me to withdraw money?",
          "What ATMs accept my card?",
          "Can I use my card to withdraw from my account?",
          "Can you tell me where I can withdraw money?",
          "What kind of ATMs would this card be accepted at?",
          "Are there specific ATM's that I can draw money from?",
          "Where can money withdrawals be made?",
          "Do I have to use bank approved ATM's",
          "Where can I find Mastercard ATMs?",
          "What ATMs can I use my card at?",
          "What ATM machines allow this card?",
          "Where can I do a cash withdrawal?",
          "Where should I withdraw money from?",
          "Where are the ATMs that accept this card?",
          "Is there a way to find an ATM around me?",
          "Will any ATM's decline my card?",
          "What ATMs can I use my card?",
          "What cash stations take this card?",
          "At which ATMs can I use this card?",
          "Please provide me a list of ATMs that accept my card.",
          "Can I use my card at an ATM?",
          "Where is the closest ATM I can use?",
          "Where is the nearest Mastercard ATM?",
          "Where can I get money from my card?",
          "How can I find an ATM that accepts this card?",
          "I need an ATM right now!",
          "Which ATMs accept Mastercard?",
          "What is the closest ATM?",
          "What ATMs use this card?",
          "What ATMs can I use this card?",
          "Can I get money out of any machine?",
          "Is the closest ATM to me within 2 miles?",
          "I need to withdraw money. Where can I do that?",
          "Can I use my card in another institutions ATM?",
          "Where is a ATM that accepts Mastercard?",
          "Where are the Mastercard ATMs?",
          "Where can I withdraw money from?",
          "Where can I withdraw money from?",
          "Can I use a different bank ATM than my own?",
          "need to know places i can withdraw money",
          "The card can be used at which ATMs?",
          "What's the closest place to withdraw money?",
          "Is there a list of ATMs that take this card?",
          "Is there a Mastercard ATM nearby?",
          "Am I limited to what ATM I can use my card?",
          "how do I know where I can get money withdrawn?",
          "Tell me what ATMs take this card.",
          "Where are the ATMs that I can use Mastercard?",
          "Where is an ATM?",
          "Which locations can I withdraw money from?",
          "Can this card be used at all ATMs?",
          "Are there any ATM's near me that accept this card?",
          "I need help from someone in your department with finding my nearest ATM.",
          "what are the locations i can withdraw money",
          "Which ATMs accept this circuit board ?",
          "How many ATMs will take this card?",
          "What ATMs can I use this card at?",
          "Is this card accepted by ATMs?",
          "Are there only certain ATM machines where I can use this card?",
          "Where can I find a Mastercard ATM?",
          "Tell me what ATMs use this card.",
          "Which ATMs take the card?",
          "How far is the closest ATM from me?",
          "Can you tell me the ATMs I can use with my card?",
          "Where is a Mastercard ATM?",
          "I need to know where I can withdraw money.",
          "Are there specific ATM's I can use with this card?",
          "Where can I find an ATM?",
          "How can I tell if an AMT will take this card?",
          "How do I know it is a Mastercard ATM?",
          "ATMs, which ones will accept this card?",
          "What ATM locations are near me?",
          "What ATM accepts Mastercard?",
          "Can I withdraw from any ATM?"
         ],
         "type": "scatter",
         "x": [
          -0.33603281179693967,
          -0.2370491910920428,
          -0.09974390089010526,
          -0.14578238291204604,
          -0.11450314211343936,
          -0.37880390890418186,
          -0.36743359030594924,
          -0.318679274846018,
          -0.26694155844977613,
          -0.3316098408130361,
          -0.3495636987396746,
          -0.20903296607110128,
          -0.37908954673836714,
          -0.26747525898952074,
          -0.3362100373988818,
          -0.31502825727114947,
          -0.25291807106774034,
          -0.3297587600366342,
          -0.3109931727376286,
          -0.356016958368374,
          -0.2546229024110366,
          -0.2868797814558173,
          -0.2419785721006893,
          -0.397538249990211,
          -0.3859054607347322,
          -0.23837479959125557,
          -0.29336606343043536,
          -0.31563926188762936,
          -0.33204720898206064,
          -0.322634219882472,
          -0.2920275540322216,
          -0.3534961698129358,
          -0.3630069221032671,
          -0.27524958498525365,
          -0.40282605931683696,
          -0.3378294378915523,
          -0.3563524946891771,
          -0.20022810618506764,
          -0.23240556875918314,
          -0.3033114837437527,
          -0.20716279788791603,
          -0.32443498836062157,
          -0.22203498132460892,
          -0.32837642735123684,
          -0.3294908265491553,
          -0.21370560221084045,
          -0.2875601904016918,
          -0.35626019895317496,
          -0.2685517891381467,
          -0.21705915091760952,
          -0.3316418354667726,
          -0.31148222965331485,
          -0.3487904154175856,
          -0.3379898494083767,
          -0.34308760236379937,
          -0.31919440538840727,
          -0.21269292487209612,
          -0.3158862998415109,
          -0.3779616237586138,
          -0.31889433610958906,
          -0.4008675068525346,
          -0.38995702927411635,
          -0.3444561909063879,
          -0.368134939176735,
          -0.3537938301748478,
          -0.32605801398622003,
          -0.3677120190365499,
          -0.2417170996001593,
          -0.33534657656650735,
          -0.3273600101067531,
          -0.2960109624181325,
          -0.26621990331669276,
          -0.20377603437825537,
          -0.29173102164634057,
          -0.21430175288080433,
          -0.37931867830727284,
          -0.33968058186224004,
          -0.29574899061979104,
          -0.3787294877602033,
          -0.3936682406373625,
          -0.3755549505154713,
          -0.2767350792639831,
          -0.35344485536229403,
          -0.1741268842909101,
          -0.36335416467188486,
          -0.38126592633451395,
          -0.3038981603544705,
          -0.2053424361263381,
          -0.38644884362749965,
          -0.2364276328694917,
          -0.3654253270866613,
          -0.36344001072791665,
          -0.23467052007454564,
          -0.38004158468969435,
          -0.3075714504137909,
          -0.2834067761372316,
          -0.2960939388033117,
          -0.3210174063959683,
          -0.2900041143930925,
          -0.35426082756330834,
          -0.3613048140136583,
          -0.3618143283253238,
          -0.3301740558124505,
          -0.25964670359224873,
          -0.36840230175186567,
          -0.24970675605949297,
          -0.3226633442256158,
          -0.31193807432879206,
          -0.24902614966278544,
          -0.3646635900875121,
          -0.25798481547159424,
          -0.29266978957703227,
          -0.34958786246712953,
          -0.3658606668995957,
          -0.26746509286780107,
          -0.39301749429933447,
          -0.25701685715202455,
          -0.2697266863202339,
          -0.3552554633335187,
          -0.3719777260178758,
          -0.2257087553268154,
          -0.15281350489877363,
          -0.3364622750374068,
          -0.33479598860584403,
          -0.2840847562882789,
          -0.029666453178535446,
          -0.33535723964896325,
          -0.2085829394845562,
          -0.2012200884134121,
          -0.3756327725338272,
          -0.3038994734981323,
          -0.2352418542246271,
          -0.3590607772836043,
          -0.39304893836525256,
          -0.05569555072804135,
          -0.35467451210813983,
          -0.2500956750838737,
          -0.17330188833899868,
          -0.023705570195776383,
          -0.39877055073246614,
          -0.3788548922552505,
          -0.30460436014372666,
          -0.18994984956874233,
          -0.38209963797372654,
          -0.3122811480111072,
          -0.39052603404347164,
          -0.3642924651277215,
          -0.3774732524099348,
          -0.2212376625899062,
          -0.27485649660840616,
          -0.10677786718834964,
          -0.29345924834270315,
          -0.318490901411994,
          -0.34090975668875106,
          -0.20985717819285282,
          -0.3601006204709828,
          -0.1971365457964204,
          -0.3009637937262761,
          -0.37301024136766053,
          0.5683230022364427,
          0.39018542843940357,
          0.5237148216349745,
          0.5647673282477876,
          0.6861320609362869,
          0.5628761588755555,
          0.4846946535102878,
          0.7181789407348337,
          0.6948845967138089,
          0.674568686835386,
          0.5863736972869518,
          0.3757634030078384,
          0.501965928142081,
          0.5693969060747165,
          0.5586714052967661,
          0.20536212416889565,
          0.5270062063677843,
          0.5816633888441881,
          0.7229942139306482,
          0.5494820842674022,
          0.5696774690611894,
          0.5196053841946288,
          0.563084539253111,
          0.5436763150190533,
          0.4740107714573356,
          0.5623868771694921,
          0.5280317005045055,
          0.6256374963846296,
          0.45697258265133883,
          0.5596446925255806,
          0.4146539390238355,
          0.5708064040693839,
          0.567015489103202,
          0.47733727077832283,
          0.7028523538558996,
          0.5457286093173628,
          0.19094211218112206,
          0.42939026663187685,
          0.5814517417424261,
          0.6314139063206029,
          0.7614497898237895,
          0.5859189904351523,
          0.5741638371799371,
          0.4767445953448297,
          0.6758411381705478,
          0.43225614197254236,
          0.3609800093535372,
          0.5328060547767302,
          0.5107832456543945,
          0.5663708360950643,
          0.5663708360950643,
          0.6565791766482512,
          0.5938579625705538,
          0.5760202268775837,
          0.6022367272340422,
          0.5592429207035362,
          0.5542227408004521,
          0.509407456440774,
          0.456481762308447,
          0.5366330378475712,
          0.5349350218862435,
          0.7343581913350621,
          0.6188019170092984,
          0.551725500558198,
          0.5207768623514106,
          0.5330196896532841,
          0.5714890685405424,
          0.6776646984096601,
          0.5153011607647202,
          0.5718852509727126,
          0.5062679304914108,
          0.5822838665909107,
          0.47142338856707333,
          0.5706285287713768,
          0.5883476758489599,
          0.6799537206107573,
          0.5286885026947077,
          0.4932598493284325,
          0.5040887434464092,
          0.5423166062586839,
          0.6908624678318167,
          0.20084823547300784,
          0.35983169377582536,
          0.5925704283892923,
          0.707304222075708,
          0.54224912989343,
          0.6757937596140697
         ],
         "y": [
          -0.05052681439371553,
          0.05868754822728168,
          -0.015536420917875982,
          -0.07715576876922323,
          0.2054024941900275,
          0.004304348762523833,
          -0.027673282559608846,
          0.009241960345445412,
          0.06804051779249864,
          -0.07978911316804704,
          -0.017522483108466942,
          -0.0865712462963699,
          -0.03077540265318255,
          0.0004680058356388312,
          -0.042327361002720235,
          0.005255495363157044,
          0.05559349712372276,
          -0.009623086323958686,
          -0.005769575733521439,
          -0.03821543831864206,
          -0.050658924860739155,
          0.015064563816667443,
          0.034879689014025404,
          -0.010024674701829373,
          -0.007501214043334133,
          -0.029383484031910753,
          0.04053775493368921,
          -0.01270198615557892,
          0.014096296247208616,
          -0.0542835189359223,
          -0.03629483148654195,
          0.015507335344152069,
          -0.002039085259364585,
          -0.00440987880842281,
          -0.0019501104675746692,
          -0.05168769925172251,
          -0.04830503237595808,
          -0.027097967126745684,
          -0.008288098395622247,
          -0.012753501462018204,
          -0.03774678775831363,
          0.02238128925614643,
          -0.02504639404320694,
          -0.004229963097449791,
          -0.03893981448584913,
          -0.0035022764303125585,
          -0.039166121082013436,
          0.005691788166053828,
          0.0427000407768932,
          0.0034859564079808354,
          0.017930573483067962,
          -0.014591336166984001,
          0.013695672609050587,
          0.018567026833291922,
          -0.004266269842152939,
          0.031604367210074896,
          -0.03306275550337262,
          0.03577376548957415,
          -0.02113107115176489,
          0.20280949805900061,
          0.02826950645799037,
          -0.040274137961397845,
          0.017184005316437552,
          -0.00009453352094237046,
          0.008223592961180769,
          0.01559330417931646,
          -0.02247558766536642,
          0.00349744127890788,
          -0.030437282533427805,
          0.015172706310270949,
          -0.012703727719423984,
          0.013615552258728644,
          0.04083431414220766,
          -0.003837340981097602,
          0.017887751536362965,
          0.008739987705792623,
          -0.020871721598144023,
          0.021145814438635273,
          0.0020620999353140974,
          -0.006351120435453577,
          0.0009554073518935561,
          -0.021657757562956636,
          0.010948367423827378,
          -0.07387307862998581,
          -0.06451434511800795,
          0.00705292327008554,
          0.03933925204256089,
          0.04648360965263523,
          -0.0037961489665965134,
          -0.02878673788922321,
          0.027492629896523145,
          -0.028966795779719515,
          0.03096692861079212,
          0.0035875719358491077,
          0.03477141757831622,
          0.0019916959710120146,
          -0.05513682526457503,
          -0.09209793158104068,
          -0.06631285242917238,
          0.005986179252164071,
          0.0314480053016973,
          -0.030973006451934373,
          -0.06630229852924392,
          0.03784965377940756,
          0.002568746354156131,
          -0.020679883121508445,
          -0.07391989976697422,
          -0.008202190365318605,
          0.04693454698047485,
          0.0021842246391733586,
          -0.04465391736923776,
          -0.0021485873854218546,
          0.023392157196415055,
          -0.014758918894827274,
          0.006378354376690092,
          -0.002275528619050977,
          -0.07088538913156164,
          0.06321611971483178,
          -0.008024724695974065,
          -0.03646185839615405,
          0.03031110631032946,
          0.019483445982251976,
          -0.05821450424401978,
          0.017193376083004263,
          -0.02797082758872148,
          0.27240647589444034,
          0.026158837130560466,
          -0.07218859818660944,
          0.016883647068992723,
          0.01119235062334178,
          -0.00002823246070460368,
          -0.041779311644636996,
          0.004391698130266351,
          -0.016572221043592517,
          0.031032040353391736,
          0.002957200616066904,
          0.03621566322594437,
          -0.06867377224017318,
          -0.14788829781345805,
          0.005041790146916931,
          -0.03724558618878104,
          0.1776102206657477,
          -0.03286110687857581,
          0.012241226650894225,
          -0.031419237745282845,
          -0.01858335868963426,
          -0.014225961715533234,
          -0.03468084599509999,
          0.15057772188779395,
          0.04331461925735299,
          0.21860042322519957,
          -0.08366265324166078,
          0.016275711373259158,
          -0.044124001515687086,
          -0.03124278438716626,
          -0.01983046255397349,
          0.023134208514000318,
          -0.014995915748401246,
          0.019481458057462646,
          -0.3184202477704182,
          -0.03436366489568324,
          0.4987651231935294,
          -0.29141282301683913,
          0.15127003429454292,
          -0.304071667993565,
          -0.3123912347407922,
          -0.0027682529764067494,
          -0.007999071851135154,
          -0.06531266226673199,
          0.13339804751621112,
          0.6936257704406057,
          -0.27514071027080733,
          0.7124086494726346,
          -0.27804035313101727,
          0.25456618171311274,
          0.710821370264129,
          -0.3044420852498234,
          0.06026044408825323,
          0.6956608619799055,
          -0.07607842227725763,
          -0.191751029693635,
          -0.30520605469239903,
          -0.27860342202128374,
          0.6783058999814067,
          0.7292330279675927,
          -0.17578781227410198,
          -0.033924490793308545,
          -0.17250231219944745,
          -0.30058279231600193,
          0.009730437038964281,
          -0.3120912311738325,
          -0.211254322366896,
          -0.24247471759222944,
          -0.09141658691824242,
          -0.170188157224931,
          0.1799240182723859,
          -0.21588373020908186,
          -0.037042670418104544,
          -0.28474705486211815,
          -0.07697371922035562,
          -0.30331302050694314,
          -0.3193146813697011,
          0.3729151408750822,
          0.015900548557121447,
          0.7485272874290992,
          -0.12505688724086667,
          -0.20810864927045825,
          -0.16259022372220758,
          0.7499728699476724,
          0.7499728699476724,
          -0.05512690837526797,
          0.7375057526818911,
          -0.31604932922027573,
          0.7250770505096249,
          -0.22424582567380963,
          -0.19650669411126026,
          -0.2882763177871014,
          0.7225035626463491,
          -0.28822040199954096,
          -0.20327002830617055,
          -0.08753479447800755,
          0.7194015057380954,
          -0.33210019243994904,
          -0.21729811851925193,
          0.07883839284236527,
          0.7427147980557872,
          -0.1876883855879212,
          -0.2725136957075545,
          -0.322415042909102,
          -0.29724568813635543,
          -0.22631731857289955,
          -0.18485629931898712,
          -0.3022385384774595,
          -0.25903096090834143,
          0.0016328398978491324,
          -0.291325563887736,
          -0.2001178311634031,
          0.7285387984998364,
          -0.32642904043066856,
          -0.08242191398233682,
          -0.13590759582300357,
          -0.26023584734880967,
          -0.30528219955512037,
          0.001113059754014531,
          -0.3133333141101266,
          0.1988722898327956
         ]
        }
       ],
       "layout": {
        "template": {
         "data": {
          "bar": [
           {
            "error_x": {
             "color": "#2a3f5f"
            },
            "error_y": {
             "color": "#2a3f5f"
            },
            "marker": {
             "line": {
              "color": "#E5ECF6",
              "width": 0.5
             },
             "pattern": {
              "fillmode": "overlay",
              "size": 10,
              "solidity": 0.2
             }
            },
            "type": "bar"
           }
          ],
          "barpolar": [
           {
            "marker": {
             "line": {
              "color": "#E5ECF6",
              "width": 0.5
             },
             "pattern": {
              "fillmode": "overlay",
              "size": 10,
              "solidity": 0.2
             }
            },
            "type": "barpolar"
           }
          ],
          "carpet": [
           {
            "aaxis": {
             "endlinecolor": "#2a3f5f",
             "gridcolor": "white",
             "linecolor": "white",
             "minorgridcolor": "white",
             "startlinecolor": "#2a3f5f"
            },
            "baxis": {
             "endlinecolor": "#2a3f5f",
             "gridcolor": "white",
             "linecolor": "white",
             "minorgridcolor": "white",
             "startlinecolor": "#2a3f5f"
            },
            "type": "carpet"
           }
          ],
          "choropleth": [
           {
            "colorbar": {
             "outlinewidth": 0,
             "ticks": ""
            },
            "type": "choropleth"
           }
          ],
          "contour": [
           {
            "colorbar": {
             "outlinewidth": 0,
             "ticks": ""
            },
            "colorscale": [
             [
              0,
              "#0d0887"
             ],
             [
              0.1111111111111111,
              "#46039f"
             ],
             [
              0.2222222222222222,
              "#7201a8"
             ],
             [
              0.3333333333333333,
              "#9c179e"
             ],
             [
              0.4444444444444444,
              "#bd3786"
             ],
             [
              0.5555555555555556,
              "#d8576b"
             ],
             [
              0.6666666666666666,
              "#ed7953"
             ],
             [
              0.7777777777777778,
              "#fb9f3a"
             ],
             [
              0.8888888888888888,
              "#fdca26"
             ],
             [
              1,
              "#f0f921"
             ]
            ],
            "type": "contour"
           }
          ],
          "contourcarpet": [
           {
            "colorbar": {
             "outlinewidth": 0,
             "ticks": ""
            },
            "type": "contourcarpet"
           }
          ],
          "heatmap": [
           {
            "colorbar": {
             "outlinewidth": 0,
             "ticks": ""
            },
            "colorscale": [
             [
              0,
              "#0d0887"
             ],
             [
              0.1111111111111111,
              "#46039f"
             ],
             [
              0.2222222222222222,
              "#7201a8"
             ],
             [
              0.3333333333333333,
              "#9c179e"
             ],
             [
              0.4444444444444444,
              "#bd3786"
             ],
             [
              0.5555555555555556,
              "#d8576b"
             ],
             [
              0.6666666666666666,
              "#ed7953"
             ],
             [
              0.7777777777777778,
              "#fb9f3a"
             ],
             [
              0.8888888888888888,
              "#fdca26"
             ],
             [
              1,
              "#f0f921"
             ]
            ],
            "type": "heatmap"
           }
          ],
          "heatmapgl": [
           {
            "colorbar": {
             "outlinewidth": 0,
             "ticks": ""
            },
            "colorscale": [
             [
              0,
              "#0d0887"
             ],
             [
              0.1111111111111111,
              "#46039f"
             ],
             [
              0.2222222222222222,
              "#7201a8"
             ],
             [
              0.3333333333333333,
              "#9c179e"
             ],
             [
              0.4444444444444444,
              "#bd3786"
             ],
             [
              0.5555555555555556,
              "#d8576b"
             ],
             [
              0.6666666666666666,
              "#ed7953"
             ],
             [
              0.7777777777777778,
              "#fb9f3a"
             ],
             [
              0.8888888888888888,
              "#fdca26"
             ],
             [
              1,
              "#f0f921"
             ]
            ],
            "type": "heatmapgl"
           }
          ],
          "histogram": [
           {
            "marker": {
             "pattern": {
              "fillmode": "overlay",
              "size": 10,
              "solidity": 0.2
             }
            },
            "type": "histogram"
           }
          ],
          "histogram2d": [
           {
            "colorbar": {
             "outlinewidth": 0,
             "ticks": ""
            },
            "colorscale": [
             [
              0,
              "#0d0887"
             ],
             [
              0.1111111111111111,
              "#46039f"
             ],
             [
              0.2222222222222222,
              "#7201a8"
             ],
             [
              0.3333333333333333,
              "#9c179e"
             ],
             [
              0.4444444444444444,
              "#bd3786"
             ],
             [
              0.5555555555555556,
              "#d8576b"
             ],
             [
              0.6666666666666666,
              "#ed7953"
             ],
             [
              0.7777777777777778,
              "#fb9f3a"
             ],
             [
              0.8888888888888888,
              "#fdca26"
             ],
             [
              1,
              "#f0f921"
             ]
            ],
            "type": "histogram2d"
           }
          ],
          "histogram2dcontour": [
           {
            "colorbar": {
             "outlinewidth": 0,
             "ticks": ""
            },
            "colorscale": [
             [
              0,
              "#0d0887"
             ],
             [
              0.1111111111111111,
              "#46039f"
             ],
             [
              0.2222222222222222,
              "#7201a8"
             ],
             [
              0.3333333333333333,
              "#9c179e"
             ],
             [
              0.4444444444444444,
              "#bd3786"
             ],
             [
              0.5555555555555556,
              "#d8576b"
             ],
             [
              0.6666666666666666,
              "#ed7953"
             ],
             [
              0.7777777777777778,
              "#fb9f3a"
             ],
             [
              0.8888888888888888,
              "#fdca26"
             ],
             [
              1,
              "#f0f921"
             ]
            ],
            "type": "histogram2dcontour"
           }
          ],
          "mesh3d": [
           {
            "colorbar": {
             "outlinewidth": 0,
             "ticks": ""
            },
            "type": "mesh3d"
           }
          ],
          "parcoords": [
           {
            "line": {
             "colorbar": {
              "outlinewidth": 0,
              "ticks": ""
             }
            },
            "type": "parcoords"
           }
          ],
          "pie": [
           {
            "automargin": true,
            "type": "pie"
           }
          ],
          "scatter": [
           {
            "fillpattern": {
             "fillmode": "overlay",
             "size": 10,
             "solidity": 0.2
            },
            "type": "scatter"
           }
          ],
          "scatter3d": [
           {
            "line": {
             "colorbar": {
              "outlinewidth": 0,
              "ticks": ""
             }
            },
            "marker": {
             "colorbar": {
              "outlinewidth": 0,
              "ticks": ""
             }
            },
            "type": "scatter3d"
           }
          ],
          "scattercarpet": [
           {
            "marker": {
             "colorbar": {
              "outlinewidth": 0,
              "ticks": ""
             }
            },
            "type": "scattercarpet"
           }
          ],
          "scattergeo": [
           {
            "marker": {
             "colorbar": {
              "outlinewidth": 0,
              "ticks": ""
             }
            },
            "type": "scattergeo"
           }
          ],
          "scattergl": [
           {
            "marker": {
             "colorbar": {
              "outlinewidth": 0,
              "ticks": ""
             }
            },
            "type": "scattergl"
           }
          ],
          "scattermapbox": [
           {
            "marker": {
             "colorbar": {
              "outlinewidth": 0,
              "ticks": ""
             }
            },
            "type": "scattermapbox"
           }
          ],
          "scatterpolar": [
           {
            "marker": {
             "colorbar": {
              "outlinewidth": 0,
              "ticks": ""
             }
            },
            "type": "scatterpolar"
           }
          ],
          "scatterpolargl": [
           {
            "marker": {
             "colorbar": {
              "outlinewidth": 0,
              "ticks": ""
             }
            },
            "type": "scatterpolargl"
           }
          ],
          "scatterternary": [
           {
            "marker": {
             "colorbar": {
              "outlinewidth": 0,
              "ticks": ""
             }
            },
            "type": "scatterternary"
           }
          ],
          "surface": [
           {
            "colorbar": {
             "outlinewidth": 0,
             "ticks": ""
            },
            "colorscale": [
             [
              0,
              "#0d0887"
             ],
             [
              0.1111111111111111,
              "#46039f"
             ],
             [
              0.2222222222222222,
              "#7201a8"
             ],
             [
              0.3333333333333333,
              "#9c179e"
             ],
             [
              0.4444444444444444,
              "#bd3786"
             ],
             [
              0.5555555555555556,
              "#d8576b"
             ],
             [
              0.6666666666666666,
              "#ed7953"
             ],
             [
              0.7777777777777778,
              "#fb9f3a"
             ],
             [
              0.8888888888888888,
              "#fdca26"
             ],
             [
              1,
              "#f0f921"
             ]
            ],
            "type": "surface"
           }
          ],
          "table": [
           {
            "cells": {
             "fill": {
              "color": "#EBF0F8"
             },
             "line": {
              "color": "white"
             }
            },
            "header": {
             "fill": {
              "color": "#C8D4E3"
             },
             "line": {
              "color": "white"
             }
            },
            "type": "table"
           }
          ]
         },
         "layout": {
          "annotationdefaults": {
           "arrowcolor": "#2a3f5f",
           "arrowhead": 0,
           "arrowwidth": 1
          },
          "autotypenumbers": "strict",
          "coloraxis": {
           "colorbar": {
            "outlinewidth": 0,
            "ticks": ""
           }
          },
          "colorscale": {
           "diverging": [
            [
             0,
             "#8e0152"
            ],
            [
             0.1,
             "#c51b7d"
            ],
            [
             0.2,
             "#de77ae"
            ],
            [
             0.3,
             "#f1b6da"
            ],
            [
             0.4,
             "#fde0ef"
            ],
            [
             0.5,
             "#f7f7f7"
            ],
            [
             0.6,
             "#e6f5d0"
            ],
            [
             0.7,
             "#b8e186"
            ],
            [
             0.8,
             "#7fbc41"
            ],
            [
             0.9,
             "#4d9221"
            ],
            [
             1,
             "#276419"
            ]
           ],
           "sequential": [
            [
             0,
             "#0d0887"
            ],
            [
             0.1111111111111111,
             "#46039f"
            ],
            [
             0.2222222222222222,
             "#7201a8"
            ],
            [
             0.3333333333333333,
             "#9c179e"
            ],
            [
             0.4444444444444444,
             "#bd3786"
            ],
            [
             0.5555555555555556,
             "#d8576b"
            ],
            [
             0.6666666666666666,
             "#ed7953"
            ],
            [
             0.7777777777777778,
             "#fb9f3a"
            ],
            [
             0.8888888888888888,
             "#fdca26"
            ],
            [
             1,
             "#f0f921"
            ]
           ],
           "sequentialminus": [
            [
             0,
             "#0d0887"
            ],
            [
             0.1111111111111111,
             "#46039f"
            ],
            [
             0.2222222222222222,
             "#7201a8"
            ],
            [
             0.3333333333333333,
             "#9c179e"
            ],
            [
             0.4444444444444444,
             "#bd3786"
            ],
            [
             0.5555555555555556,
             "#d8576b"
            ],
            [
             0.6666666666666666,
             "#ed7953"
            ],
            [
             0.7777777777777778,
             "#fb9f3a"
            ],
            [
             0.8888888888888888,
             "#fdca26"
            ],
            [
             1,
             "#f0f921"
            ]
           ]
          },
          "colorway": [
           "#636efa",
           "#EF553B",
           "#00cc96",
           "#ab63fa",
           "#FFA15A",
           "#19d3f3",
           "#FF6692",
           "#B6E880",
           "#FF97FF",
           "#FECB52"
          ],
          "font": {
           "color": "#2a3f5f"
          },
          "geo": {
           "bgcolor": "white",
           "lakecolor": "white",
           "landcolor": "#E5ECF6",
           "showlakes": true,
           "showland": true,
           "subunitcolor": "white"
          },
          "hoverlabel": {
           "align": "left"
          },
          "hovermode": "closest",
          "mapbox": {
           "style": "light"
          },
          "paper_bgcolor": "white",
          "plot_bgcolor": "#E5ECF6",
          "polar": {
           "angularaxis": {
            "gridcolor": "white",
            "linecolor": "white",
            "ticks": ""
           },
           "bgcolor": "#E5ECF6",
           "radialaxis": {
            "gridcolor": "white",
            "linecolor": "white",
            "ticks": ""
           }
          },
          "scene": {
           "xaxis": {
            "backgroundcolor": "#E5ECF6",
            "gridcolor": "white",
            "gridwidth": 2,
            "linecolor": "white",
            "showbackground": true,
            "ticks": "",
            "zerolinecolor": "white"
           },
           "yaxis": {
            "backgroundcolor": "#E5ECF6",
            "gridcolor": "white",
            "gridwidth": 2,
            "linecolor": "white",
            "showbackground": true,
            "ticks": "",
            "zerolinecolor": "white"
           },
           "zaxis": {
            "backgroundcolor": "#E5ECF6",
            "gridcolor": "white",
            "gridwidth": 2,
            "linecolor": "white",
            "showbackground": true,
            "ticks": "",
            "zerolinecolor": "white"
           }
          },
          "shapedefaults": {
           "line": {
            "color": "#2a3f5f"
           }
          },
          "ternary": {
           "aaxis": {
            "gridcolor": "white",
            "linecolor": "white",
            "ticks": ""
           },
           "baxis": {
            "gridcolor": "white",
            "linecolor": "white",
            "ticks": ""
           },
           "bgcolor": "#E5ECF6",
           "caxis": {
            "gridcolor": "white",
            "linecolor": "white",
            "ticks": ""
           }
          },
          "title": {
           "x": 0.05
          },
          "xaxis": {
           "automargin": true,
           "gridcolor": "white",
           "linecolor": "white",
           "ticks": "",
           "title": {
            "standoff": 15
           },
           "zerolinecolor": "white",
           "zerolinewidth": 2
          },
          "yaxis": {
           "automargin": true,
           "gridcolor": "white",
           "linecolor": "white",
           "ticks": "",
           "title": {
            "standoff": 15
           },
           "zerolinecolor": "white",
           "zerolinewidth": 2
          }
         }
        },
        "title": {
         "text": "Population of USA States"
        }
       }
      }
     },
     "metadata": {},
     "output_type": "display_data"
    }
   ],
   "source": [
    "fig = go.Figure(data=go.Scatter(x=x,\n",
    "                                y=y,\n",
    "                                mode='markers',\n",
    "                                marker=dict(\n",
    "                                    size=8,\n",
    "                                    color=textcolor, #set color equal to a variable\n",
    "                                    colorscale='rainbow', # one of plotly colorscales\n",
    "                                    showscale=True\n",
    "                                ),\n",
    "                                text=text)) # hover text goes here\n",
    "\n",
    "fig.update_layout(title='Population of USA States')\n",
    "fig.show()"
   ]
  },
  {
   "cell_type": "code",
   "execution_count": null,
   "metadata": {},
   "outputs": [],
   "source": []
  }
 ],
 "metadata": {
  "kernelspec": {
   "display_name": "Python 3.9.12 ('rasa')",
   "language": "python",
   "name": "python3"
  },
  "language_info": {
   "codemirror_mode": {
    "name": "ipython",
    "version": 3
   },
   "file_extension": ".py",
   "mimetype": "text/x-python",
   "name": "python",
   "nbconvert_exporter": "python",
   "pygments_lexer": "ipython3",
   "version": "3.9.12"
  },
  "orig_nbformat": 4,
  "vscode": {
   "interpreter": {
    "hash": "f1882317937b6ffca94cc0d4933600b72efd10ecd9f7a560ff92fd691cf50e26"
   }
  }
 },
 "nbformat": 4,
 "nbformat_minor": 2
}
