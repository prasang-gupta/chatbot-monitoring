{
 "cells": [
  {
   "cell_type": "code",
   "execution_count": 17,
   "metadata": {},
   "outputs": [],
   "source": [
    "from datasets import load_dataset\n",
    "import pandas as pd\n",
    "from tqdm import tqdm\n",
    "import json"
   ]
  },
  {
   "cell_type": "code",
   "execution_count": 5,
   "metadata": {},
   "outputs": [
    {
     "name": "stderr",
     "output_type": "stream",
     "text": [
      "Using custom data configuration default\n",
      "Reusing dataset banking77 (/Users/pgupta282/.cache/huggingface/datasets/banking77/default/1.1.0/ff44c4421d7e70aa810b0fa79d36908a38b87aff8125d002cd44f7fcd31f493c)\n"
     ]
    },
    {
     "data": {
      "application/json": {
       "ascii": false,
       "bar_format": null,
       "colour": null,
       "elapsed": 0.018444061279296875,
       "initial": 0,
       "n": 0,
       "ncols": null,
       "nrows": null,
       "postfix": null,
       "prefix": "",
       "rate": null,
       "total": 2,
       "unit": "it",
       "unit_divisor": 1000,
       "unit_scale": false
      },
      "application/vnd.jupyter.widget-view+json": {
       "model_id": "e2052724b5ef48a28bb830774b216688",
       "version_major": 2,
       "version_minor": 0
      },
      "text/plain": [
       "  0%|          | 0/2 [00:00<?, ?it/s]"
      ]
     },
     "metadata": {},
     "output_type": "display_data"
    }
   ],
   "source": [
    "dataset = load_dataset(\"banking77\")\n",
    "\n",
    "BASE_DATASET = 'card'\n",
    "DRIFT_DATASET = 'new card'\n",
    "EVOLUTION_DATASET = 'new'"
   ]
  },
  {
   "cell_type": "code",
   "execution_count": 4,
   "metadata": {},
   "outputs": [
    {
     "data": {
      "text/html": [
       "<div>\n",
       "<style scoped>\n",
       "    .dataframe tbody tr th:only-of-type {\n",
       "        vertical-align: middle;\n",
       "    }\n",
       "\n",
       "    .dataframe tbody tr th {\n",
       "        vertical-align: top;\n",
       "    }\n",
       "\n",
       "    .dataframe thead th {\n",
       "        text-align: right;\n",
       "    }\n",
       "</style>\n",
       "<table border=\"1\" class=\"dataframe\">\n",
       "  <thead>\n",
       "    <tr style=\"text-align: right;\">\n",
       "      <th></th>\n",
       "      <th>label</th>\n",
       "      <th>intent</th>\n",
       "      <th>dataset</th>\n",
       "    </tr>\n",
       "  </thead>\n",
       "  <tbody>\n",
       "    <tr>\n",
       "      <th>0</th>\n",
       "      <td>0</td>\n",
       "      <td>activate_my_card</td>\n",
       "      <td>card</td>\n",
       "    </tr>\n",
       "    <tr>\n",
       "      <th>1</th>\n",
       "      <td>1</td>\n",
       "      <td>age_limit</td>\n",
       "      <td>general</td>\n",
       "    </tr>\n",
       "    <tr>\n",
       "      <th>2</th>\n",
       "      <td>2</td>\n",
       "      <td>apple_pay_or_google_pay</td>\n",
       "      <td>new</td>\n",
       "    </tr>\n",
       "    <tr>\n",
       "      <th>3</th>\n",
       "      <td>3</td>\n",
       "      <td>atm_support</td>\n",
       "      <td>card</td>\n",
       "    </tr>\n",
       "    <tr>\n",
       "      <th>4</th>\n",
       "      <td>4</td>\n",
       "      <td>automatic_top_up</td>\n",
       "      <td>topup</td>\n",
       "    </tr>\n",
       "  </tbody>\n",
       "</table>\n",
       "</div>"
      ],
      "text/plain": [
       "   label                   intent  dataset\n",
       "0      0         activate_my_card     card\n",
       "1      1                age_limit  general\n",
       "2      2  apple_pay_or_google_pay      new\n",
       "3      3              atm_support     card\n",
       "4      4         automatic_top_up    topup"
      ]
     },
     "execution_count": 4,
     "metadata": {},
     "output_type": "execute_result"
    }
   ],
   "source": [
    "fields = pd.read_csv('data/fields.csv')\n",
    "fields.head()"
   ]
  },
  {
   "cell_type": "code",
   "execution_count": 26,
   "metadata": {},
   "outputs": [
    {
     "name": "stderr",
     "output_type": "stream",
     "text": [
      "100%|██████████| 22/22 [00:10<00:00,  2.10it/s]\n",
      "100%|██████████| 4/4 [00:02<00:00,  1.92it/s]\n",
      "100%|██████████| 3/3 [00:01<00:00,  2.20it/s]\n"
     ]
    }
   ],
   "source": [
    "def create_rasa_data(dataset_name):\n",
    "    labels = fields[fields['dataset'] == dataset_name]['label'].tolist()\n",
    "    intents = []\n",
    "\n",
    "    # Creating nlu.md\n",
    "    with open(f'output/nlu_{dataset_name}.md', 'w') as f:\n",
    "        for label in tqdm(labels):\n",
    "            intent = fields[fields['label'] == label]['intent'].values[0]\n",
    "            f.write(f'## intent: {intent}')\n",
    "            for obj in dataset['train']:\n",
    "                if obj['label'] == label:\n",
    "                    f.write(f'- {obj[\"text\"]}\\n')\n",
    "            intents.append(intent)\n",
    "\n",
    "    # Creating stories.md\n",
    "    with open(f'output/stories_{dataset_name}.md', 'w') as f:\n",
    "        for intent in intents:\n",
    "            f.write(f'## {intent}\\n* {intent}\\n  - utter_{intent}\\n\\n')\n",
    "\n",
    "    # Creating domain.yml\n",
    "    with open(f'output/domain_{dataset_name}.yml', 'w') as f:\n",
    "        f.write('intents:\\n')\n",
    "        for intent in intents:\n",
    "            f.write(f'  - {intent}\\n')\n",
    "        f.write('\\nresponses:\\n')\n",
    "        for intent in intents:\n",
    "            f.write(f'  - utter_{intent}:\\n  - text: \"Text for {intent}\"\\n')\n",
    "\n",
    "create_rasa_data('card')\n",
    "create_rasa_data('new card')\n",
    "create_rasa_data('new')"
   ]
  },
  {
   "cell_type": "code",
   "execution_count": null,
   "metadata": {},
   "outputs": [],
   "source": []
  }
 ],
 "metadata": {
  "kernelspec": {
   "display_name": "Python 3.9.12 ('rasa')",
   "language": "python",
   "name": "python3"
  },
  "language_info": {
   "codemirror_mode": {
    "name": "ipython",
    "version": 3
   },
   "file_extension": ".py",
   "mimetype": "text/x-python",
   "name": "python",
   "nbconvert_exporter": "python",
   "pygments_lexer": "ipython3",
   "version": "3.9.12"
  },
  "orig_nbformat": 4,
  "vscode": {
   "interpreter": {
    "hash": "f1882317937b6ffca94cc0d4933600b72efd10ecd9f7a560ff92fd691cf50e26"
   }
  }
 },
 "nbformat": 4,
 "nbformat_minor": 2
}
